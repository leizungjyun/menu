{
 "cells": [
  {
   "cell_type": "code",
   "execution_count": 1,
   "metadata": {},
   "outputs": [],
   "source": [
    "import tomllib"
   ]
  },
  {
   "cell_type": "code",
   "execution_count": 3,
   "metadata": {},
   "outputs": [],
   "source": [
    "with open('recipe.toml', 'rb') as f:\n",
    "    data = tomllib.load(f)"
   ]
  },
  {
   "cell_type": "code",
   "execution_count": 100,
   "metadata": {},
   "outputs": [],
   "source": [
    "cocktails = data['cocktails']"
   ]
  },
  {
   "cell_type": "code",
   "execution_count": 24,
   "metadata": {},
   "outputs": [],
   "source": [
    "from pytablewriter import ExcelXlsxTableWriter"
   ]
  },
  {
   "cell_type": "code",
   "execution_count": 104,
   "metadata": {},
   "outputs": [
    {
     "name": "stdout",
     "output_type": "stream",
     "text": [
      "Penicillin\n",
      "Daiquiri\n",
      "Charlie Chaplin\n",
      "Scotch & Soda\n",
      "Old-Fashioned\n",
      "Trinidad Sour\n",
      "Happy Squirrel\n",
      "Gin & Tonic\n",
      "Boston Sour\n"
     ]
    }
   ],
   "source": [
    "writer = ExcelXlsxTableWriter()\n",
    "writer.table_name = \"Recipe\"\n",
    "#writer.headers = []\n",
    "\n",
    "for cocktail in cocktails:\n",
    "    name_en =  cocktail['name_en']\n",
    "    print(name_en)\n",
    "    ingredients = cocktail['ingredients']\n",
    "    items = ingredients['items']\n",
    "    amount = ingredients['amount']\n",
    "    unit = ingredients['unit']\n",
    "\n",
    "    num_items = len(items)\n",
    "    ingredients_table = [ [i, item, amount, unit] for (i,item),amount, unit in zip(enumerate(items, start=1), amount, unit)]\n",
    "\n",
    "    writer.value_matrix += [\n",
    "        [name_en, \"\", \"Garnish\", cocktail['garnish'], \"\", \"Glassware\", cocktail['glassware']],\n",
    "        ['', 'Ingredients', 'amount', 'unit'],\n",
    "\n",
    "    ]\n",
    "    total_table = [['', 'total', f'=SUM(OFFSET(INDIRECT(ADDRESS(ROW(),COLUMN())),−{num_items},0,{num_items},1))']]\n",
    "\n",
    "    writer.value_matrix += ingredients_table\n",
    "    writer.value_matrix += total_table\n",
    "\n",
    "writer.dump(\"recipe.xlsx\")"
   ]
  },
  {
   "cell_type": "code",
   "execution_count": null,
   "metadata": {},
   "outputs": [],
   "source": []
  }
 ],
 "metadata": {
  "kernelspec": {
   "display_name": "base",
   "language": "python",
   "name": "python3"
  },
  "language_info": {
   "codemirror_mode": {
    "name": "ipython",
    "version": 3
   },
   "file_extension": ".py",
   "mimetype": "text/x-python",
   "name": "python",
   "nbconvert_exporter": "python",
   "pygments_lexer": "ipython3",
   "version": "3.11.4"
  },
  "orig_nbformat": 4
 },
 "nbformat": 4,
 "nbformat_minor": 2
}
