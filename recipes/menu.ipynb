{
 "cells": [
  {
   "cell_type": "code",
   "execution_count": 1,
   "metadata": {},
   "outputs": [],
   "source": [
    "import tomllib"
   ]
  },
  {
   "cell_type": "code",
   "execution_count": 13,
   "metadata": {},
   "outputs": [],
   "source": [
    "# load toml file\n",
    "with open('recipe.toml', 'rb') as f:\n",
    "    data = tomllib.load(f) # data is a dict"
   ]
  },
  {
   "cell_type": "code",
   "execution_count": 3,
   "metadata": {},
   "outputs": [],
   "source": [
    "begin_group = \"\\\\begin{Group}{cocktail}\"\n",
    "end_group = \"\\\\end{Group}\"\n"
   ]
  },
  {
   "cell_type": "code",
   "execution_count": 4,
   "metadata": {},
   "outputs": [],
   "source": [
    "# define a function to generate a latex file\n",
    "# input: data, a dict\n",
    "# output: cocktails.tex\n",
    "# data contains a list of cocktails\n",
    "# data was originally stored in a toml file\n",
    "# here is a example in the toml file\n",
    "# [[cocktails]]\n",
    "# name_en = \"Moscow Mule\"\n",
    "# name_cn = \"莫斯科骡子\"\n",
    "# garnish = \"lime wedge\"\n",
    "# glassware = \"moscow mule mug\"\n",
    "# instructions = \"\"\"\n",
    "#     Build in a moscow mule mug filled with ice. Garnish with a lime wedge.\"\"\"\n",
    "# price = 78\n",
    "# [cocktails.menu]\n",
    "#     ingredients = [\"vodka\", \"lime juice\", \"ginger beer\"]\n",
    "#     ingredients_cn = [\"伏特加\", \"青柠汁\", \"姜汁啤酒\"]\n",
    "#     description = \"\"\"\n",
    "#     夏天就着铜杯喝一口莫斯科骡子，非常清爽。\"\"\"\n",
    "#\n",
    "# contails.tex is a submodule of a menu latex project. contails.tex contains several Group environments \n",
    "# a group environment looks likes this:\n",
    "# \\begin{Group}{cocktail}\n",
    "#     % four cocktails\n",
    "# \\end{Group}\n",
    "# each Group environment contains four cocktails\n",
    "# if there are 15 cocktails, then there will be 4 Group environments, the last will have 3 cocktails\n",
    "# each cocktail is a like the following four lines\n",
    "# \\Entry{盘尼西林 Penicillin}{\\textyen 78} \n",
    "# \\Recipecn{苏格兰调和威士忌、蜂蜜、姜汁、柠檬汁、艾雷岛威士忌}\n",
    "# \\Recipeen{blended scotch, honey, ginger, lemon juice, Islay whisky}\n",
    "# \\Expl{现代经典，闻着很上头，喝着是冰的回味又是暖的 } \n",
    "# we need to find correpsonding content in the data dict\n",
    "# \\Entry{name_cn name_en}{\\textyen price} \n",
    "# \\Recipecn{ingredients_cn}\n",
    "# \\Recipeen{ingredients}\n",
    "# \\Expl{description}}}  "
   ]
  },
  {
   "cell_type": "code",
   "execution_count": 11,
   "metadata": {},
   "outputs": [
    {
     "name": "stdout",
     "output_type": "stream",
     "text": [
      "{'ingredients': ['gin', 'lime juice', 'lemon juice', 'sugar', 'egg white', 'cream', 'orange flower water', 'soda water'], 'ingredients_cn': ['金酒', '青柠汁', '柠檬汁', '糖', '蛋清', '奶油', '橙花水', '苏打水'], 'description': '酸奶质感，柑橘香气，口感绵密，回味清香'}\n"
     ]
    }
   ],
   "source": [
    "print(data['cocktails'][2]['menu'])"
   ]
  },
  {
   "cell_type": "code",
   "execution_count": 12,
   "metadata": {},
   "outputs": [],
   "source": [
    "\n",
    "def generate_latex(data):\n",
    "    with open('cocktails.tex', 'w') as f:\n",
    "        f.write(begin_group)\n",
    "        for i, cocktail in enumerate(data['cocktails']):\n",
    "            f.write('\\n')\n",
    "            f.write('\\\\Entry{' + cocktail['name_cn'] + ' ' + cocktail['name_en'] + '}{\\\\textyen ' + str(cocktail['price']) + '}\\n')\n",
    "            f.write('\\\\Recipecn{' + '、'.join(cocktail['menu']['ingredients_cn']) + '}\\n')\n",
    "            f.write('\\\\Recipeen{' + ', '.join(cocktail['menu']['ingredients']) + '}\\n')\n",
    "            f.write('\\\\Expl{' + cocktail['menu']['description'] + '}\\n')\n",
    "            if (i + 1) % 4 == 0:\n",
    "                f.write(end_group)\n",
    "                f.write('\\n')\n",
    "                f.write(begin_group)\n",
    "        f.write(end_group)\n",
    "        f.write('\\n')\n",
    "# name_en could contains '&', we need to replace them with '\\&' \n",
    "# modify the above function \n",
    "def generate_latex(data):\n",
    "    with open('cocktails.tex', 'w') as f:\n",
    "        f.write(begin_group)\n",
    "        for i, cocktail in enumerate(data['cocktails']):\n",
    "            f.write('\\n')\n",
    "            f.write('\\\\Entry{' + cocktail['name_cn'] + ' ' + cocktail['name_en'].replace('&', '\\\\&') + '}{\\\\textyen ' + str(cocktail['price']) + '}\\n')\n",
    "            f.write('\\\\Recipecn{' + '、'.join(cocktail['menu']['ingredients_cn']) + '}\\n')\n",
    "            f.write('\\\\Recipeen{' + ', '.join(cocktail['menu']['ingredients']) + '}\\n')\n",
    "            f.write('\\\\Expl{' + cocktail['menu']['description'] + '}\\n')\n",
    "            if (i + 1) % 4 == 0 and i != len(data['cocktails']) - 1:\n",
    "                f.write(end_group)\n",
    "                f.write('\\n')\n",
    "                f.write(begin_group)\n",
    "        f.write(end_group)\n",
    "        f.write('\\n')\n"
   ]
  },
  {
   "cell_type": "code",
   "execution_count": 14,
   "metadata": {},
   "outputs": [],
   "source": [
    "\n",
    "generate_latex(data)"
   ]
  },
  {
   "cell_type": "code",
   "execution_count": null,
   "metadata": {},
   "outputs": [],
   "source": []
  }
 ],
 "metadata": {
  "kernelspec": {
   "display_name": "toml",
   "language": "python",
   "name": "python3"
  },
  "language_info": {
   "codemirror_mode": {
    "name": "ipython",
    "version": 3
   },
   "file_extension": ".py",
   "mimetype": "text/x-python",
   "name": "python",
   "nbconvert_exporter": "python",
   "pygments_lexer": "ipython3",
   "version": "3.11.4"
  },
  "orig_nbformat": 4
 },
 "nbformat": 4,
 "nbformat_minor": 2
}
